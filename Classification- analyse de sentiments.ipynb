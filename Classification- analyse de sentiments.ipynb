{
 "cells": [
  {
   "cell_type": "markdown",
   "metadata": {},
   "source": [
    "# Classification - analyse de sentiments"
   ]
  },
  {
   "cell_type": "markdown",
   "metadata": {},
   "source": [
    "- Import du jeu de données et statistiques\n",
    "- Nettoyage de données et modélisation\n",
    "- Enrichir le modèle (POS, lemmatisation, ponctuation, dictionnaire de sentiments) </br> \n",
    "\n",
    "*NB : Le notebook repose sur le jeu de données IMDB_dataset.csv <br>\n",
    "Ce jeu de données est très connu en analyse du langage dans la communauté de recherche. Il est composé de revues de film avec le sentiment associé à cette dernière. L'objectif est de prédire ce sentiment connaissant le commentaire de l'utilisateur.*"
   ]
  },
  {
   "cell_type": "code",
   "execution_count": 1,
   "metadata": {},
   "outputs": [],
   "source": [
    "#Libraries python par défaut\n",
    "import pandas as pd\n",
    "pd.options.mode.chained_assignment = None  \n",
    "import numpy as np\n",
    "from collections import defaultdict\n",
    "import collections\n",
    "import matplotlib.pyplot as plt\n",
    "import seaborn as sns\n",
    "import re\n",
    "\n",
    "#Import de nltk - nous en aurons besoin pour certains outils spécifiques associés à l'analyse de Sentiment (Sentiwordnet)\n",
    "import nltk\n",
    "from nltk.stem import WordNetLemmatizer\n",
    "lemmatizer = WordNetLemmatizer()\n",
    "from nltk import sent_tokenize, pos_tag\n",
    "from nltk.corpus import wordnet as wn\n",
    "from nltk.corpus import sentiwordnet as swn\n",
    "from nltk.corpus import stopwords\n",
    "\n",
    "import spacy\n",
    "nlp = spacy.load(\"en_core_web_sm\")\n",
    "\n",
    "#Cette fonction sert à diviser les données pour créer des jeux d'entrainement, de validation, et de test\n",
    "from sklearn.model_selection import train_test_split\n",
    "\n",
    "#Pour la modélisation par Bag of Words\n",
    "from sklearn.feature_extraction.text import CountVectorizer\n",
    "\n",
    "#Cette fonction va nous servir à concaténer notre matrice de Bag of Words avec les variables supplémentaires que nous allons créer\n",
    "from scipy.sparse import hstack\n",
    "\n",
    "#Le modèle de prédiction et les métriques de test\n",
    "from sklearn.linear_model import LogisticRegression\n",
    "from sklearn.naive_bayes import GaussianNB\n",
    "from sklearn.metrics import accuracy_score\n",
    "from sklearn.metrics import recall_score\n",
    "from sklearn.metrics import f1_score\n",
    "from sklearn.metrics import precision_score"
   ]
  },
  {
   "cell_type": "markdown",
   "metadata": {
    "tags": []
   },
   "source": [
    "## Analyse préliminaire des données"
   ]
  },
  {
   "cell_type": "markdown",
   "metadata": {},
   "source": [
    "Ici nous allons voir comment encoder notre variable cible, vérifier le balancement du jeu de données, et voir l'état des textes que nous avons à analyser."
   ]
  },
  {
   "cell_type": "code",
   "execution_count": 2,
   "metadata": {},
   "outputs": [
    {
     "data": {
      "text/html": [
       "<div>\n",
       "<style scoped>\n",
       "    .dataframe tbody tr th:only-of-type {\n",
       "        vertical-align: middle;\n",
       "    }\n",
       "\n",
       "    .dataframe tbody tr th {\n",
       "        vertical-align: top;\n",
       "    }\n",
       "\n",
       "    .dataframe thead th {\n",
       "        text-align: right;\n",
       "    }\n",
       "</style>\n",
       "<table border=\"1\" class=\"dataframe\">\n",
       "  <thead>\n",
       "    <tr style=\"text-align: right;\">\n",
       "      <th></th>\n",
       "      <th>review</th>\n",
       "      <th>sentiment</th>\n",
       "    </tr>\n",
       "  </thead>\n",
       "  <tbody>\n",
       "    <tr>\n",
       "      <th>0</th>\n",
       "      <td>One of the other reviewers has mentioned that ...</td>\n",
       "      <td>positive</td>\n",
       "    </tr>\n",
       "    <tr>\n",
       "      <th>1</th>\n",
       "      <td>A wonderful little production. &lt;br /&gt;&lt;br /&gt;The...</td>\n",
       "      <td>positive</td>\n",
       "    </tr>\n",
       "    <tr>\n",
       "      <th>2</th>\n",
       "      <td>I thought this was a wonderful way to spend ti...</td>\n",
       "      <td>positive</td>\n",
       "    </tr>\n",
       "    <tr>\n",
       "      <th>3</th>\n",
       "      <td>Basically there's a family where a little boy ...</td>\n",
       "      <td>negative</td>\n",
       "    </tr>\n",
       "    <tr>\n",
       "      <th>4</th>\n",
       "      <td>Petter Mattei's \"Love in the Time of Money\" is...</td>\n",
       "      <td>positive</td>\n",
       "    </tr>\n",
       "  </tbody>\n",
       "</table>\n",
       "</div>"
      ],
      "text/plain": [
       "                                              review sentiment\n",
       "0  One of the other reviewers has mentioned that ...  positive\n",
       "1  A wonderful little production. <br /><br />The...  positive\n",
       "2  I thought this was a wonderful way to spend ti...  positive\n",
       "3  Basically there's a family where a little boy ...  negative\n",
       "4  Petter Mattei's \"Love in the Time of Money\" is...  positive"
      ]
     },
     "execution_count": 2,
     "metadata": {},
     "output_type": "execute_result"
    }
   ],
   "source": [
    "df = pd.read_csv(\"IMDB_Dataset.csv\")\n",
    "df.head()"
   ]
  },
  {
   "cell_type": "code",
   "execution_count": 3,
   "metadata": {},
   "outputs": [
    {
     "data": {
      "text/html": [
       "<div>\n",
       "<style scoped>\n",
       "    .dataframe tbody tr th:only-of-type {\n",
       "        vertical-align: middle;\n",
       "    }\n",
       "\n",
       "    .dataframe tbody tr th {\n",
       "        vertical-align: top;\n",
       "    }\n",
       "\n",
       "    .dataframe thead th {\n",
       "        text-align: right;\n",
       "    }\n",
       "</style>\n",
       "<table border=\"1\" class=\"dataframe\">\n",
       "  <thead>\n",
       "    <tr style=\"text-align: right;\">\n",
       "      <th></th>\n",
       "      <th>review</th>\n",
       "      <th>sentiment</th>\n",
       "      <th>label</th>\n",
       "    </tr>\n",
       "  </thead>\n",
       "  <tbody>\n",
       "    <tr>\n",
       "      <th>0</th>\n",
       "      <td>One of the other reviewers has mentioned that ...</td>\n",
       "      <td>positive</td>\n",
       "      <td>1</td>\n",
       "    </tr>\n",
       "    <tr>\n",
       "      <th>1</th>\n",
       "      <td>A wonderful little production. &lt;br /&gt;&lt;br /&gt;The...</td>\n",
       "      <td>positive</td>\n",
       "      <td>1</td>\n",
       "    </tr>\n",
       "    <tr>\n",
       "      <th>2</th>\n",
       "      <td>I thought this was a wonderful way to spend ti...</td>\n",
       "      <td>positive</td>\n",
       "      <td>1</td>\n",
       "    </tr>\n",
       "    <tr>\n",
       "      <th>3</th>\n",
       "      <td>Basically there's a family where a little boy ...</td>\n",
       "      <td>negative</td>\n",
       "      <td>0</td>\n",
       "    </tr>\n",
       "    <tr>\n",
       "      <th>4</th>\n",
       "      <td>Petter Mattei's \"Love in the Time of Money\" is...</td>\n",
       "      <td>positive</td>\n",
       "      <td>1</td>\n",
       "    </tr>\n",
       "  </tbody>\n",
       "</table>\n",
       "</div>"
      ],
      "text/plain": [
       "                                              review sentiment  label\n",
       "0  One of the other reviewers has mentioned that ...  positive      1\n",
       "1  A wonderful little production. <br /><br />The...  positive      1\n",
       "2  I thought this was a wonderful way to spend ti...  positive      1\n",
       "3  Basically there's a family where a little boy ...  negative      0\n",
       "4  Petter Mattei's \"Love in the Time of Money\" is...  positive      1"
      ]
     },
     "execution_count": 3,
     "metadata": {},
     "output_type": "execute_result"
    }
   ],
   "source": [
    "#Encoding de notre variable cible en variable binaire exploitable pour un modèle prédictif\n",
    "#Ici on applique un filtre de telle sorte que les sentiments positifs aient la valeur de 1 et les négatifs 0.\n",
    "df['label'] = np.where(df['sentiment']!= 'positive', 0, 1)\n",
    "df.head()"
   ]
  },
  {
   "cell_type": "code",
   "execution_count": 4,
   "metadata": {},
   "outputs": [
    {
     "name": "stdout",
     "output_type": "stream",
     "text": [
      "1    25000\n",
      "0    25000\n",
      "Name: label, dtype: int64\n"
     ]
    },
    {
     "data": {
      "image/png": "[encoded data removed]",
      "text/plain": [
       "<Figure size 640x480 with 1 Axes>"
      ]
     },
     "metadata": {},
     "output_type": "display_data"
    }
   ],
   "source": [
    "#On commence par explorer la répartition de nos classes. \n",
    "Y_distr = df['label'].value_counts()\n",
    "print(df['label'].value_counts())\n",
    "sns.barplot(x=Y_distr.index, y=Y_distr.values, alpha=0.9)\n",
    "plt.title(\"Distribution des commentaires correspondant aux sentiment positifs\")\n",
    "plt.show()"
   ]
  },
  {
   "cell_type": "code",
   "execution_count": 5,
   "metadata": {},
   "outputs": [],
   "source": [
    "#On crée notre liste de document et nos Y associés pour pouvoir les analyser plus en profondeur\n",
    "X = list(df['review'])\n",
    "Y = np.array(list(df['label']))"
   ]
  },
  {
   "cell_type": "code",
   "execution_count": 6,
   "metadata": {},
   "outputs": [],
   "source": [
    "#Fonction de tokenisation simple pour obtenir des premières informations sur le texte afin de savoir quelles étapes faire par la suite\n",
    "def tokenize(text):\n",
    "    return [tok.text for tok in nlp.tokenizer(str(text))]"
   ]
  },
  {
   "cell_type": "code",
   "execution_count": 7,
   "metadata": {},
   "outputs": [
    {
     "name": "stdout",
     "output_type": "stream",
     "text": [
      "[\"One of the other reviewers has mentioned that after watching just 1 Oz episode you'll be hooked. They are right, as this is exactly what happened with me.<br /><br />The first thing that struck me about Oz was its brutality and unflinching scenes of violence, which set in right from the word GO. Trust me, this is not a show for the faint hearted or timid. This show pulls no punches with regards to drugs, sex or violence. Its is hardcore, in the classic use of the word.<br /><br />It is called OZ as that is the nickname given to the Oswald Maximum Security State Penitentary. It focuses mainly on Emerald City, an experimental section of the prison where all the cells have glass fronts and face inwards, so privacy is not high on the agenda. Em City is home to many..Aryans, Muslims, gangstas, Latinos, Christians, Italians, Irish and more....so scuffles, death stares, dodgy dealings and shady agreements are never far away.<br /><br />I would say the main appeal of the show is due to the fact that it goes where other shows wouldn't dare. Forget pretty pictures painted for mainstream audiences, forget charm, forget romance...OZ doesn't mess around. The first episode I ever saw struck me as so nasty it was surreal, I couldn't say I was ready for it, but as I watched more, I developed a taste for Oz, and got accustomed to the high levels of graphic violence. Not just violence, but injustice (crooked guards who'll be sold out for a nickel, inmates who'll kill on order and get away with it, well mannered, middle class inmates being turned into prison bitches due to their lack of street skills or prison experience) Watching Oz, you may become comfortable with what is uncomfortable viewing....thats if you can get in touch with your darker side.\", 'A wonderful little production. <br /><br />The filming technique is very unassuming- very old-time-BBC fashion and gives a comforting, and sometimes discomforting, sense of realism to the entire piece. <br /><br />The actors are extremely well chosen- Michael Sheen not only \"has got all the polari\" but he has all the voices down pat too! You can truly see the seamless editing guided by the references to Williams\\' diary entries, not only is it well worth the watching but it is a terrificly written and performed piece. A masterful production about one of the great master\\'s of comedy and his life. <br /><br />The realism really comes home with the little things: the fantasy of the guard which, rather than use the traditional \\'dream\\' techniques remains solid then disappears. It plays on our knowledge and our senses, particularly with the scenes concerning Orton and Halliwell and the sets (particularly of their flat with Halliwell\\'s murals decorating every surface) are terribly well done.', 'I thought this was a wonderful way to spend time on a too hot summer weekend, sitting in the air conditioned theater and watching a light-hearted comedy. The plot is simplistic, but the dialogue is witty and the characters are likable (even the well bread suspected serial killer). While some may be disappointed when they realize this is not Match Point 2: Risk Addiction, I thought it was proof that Woody Allen is still fully in control of the style many of us have grown to love.<br /><br />This was the most I\\'d laughed at one of Woody\\'s comedies in years (dare I say a decade?). While I\\'ve never been impressed with Scarlet Johanson, in this she managed to tone down her \"sexy\" image and jumped right into a average, but spirited young woman.<br /><br />This may not be the crown jewel of his career, but it was wittier than \"Devil Wears Prada\" and more interesting than \"Superman\" a great comedy to go see with friends.']\n"
     ]
    }
   ],
   "source": [
    "#Examiner les 3 premières revues de notre jeu de données\n",
    "print(X[0:3])"
   ]
  },
  {
   "cell_type": "code",
   "execution_count": 8,
   "metadata": {},
   "outputs": [],
   "source": [
    "#On va aussi regarder quels sont les tokens les plus occurrents pour obtenir une idée des variables à nettoyer\n",
    "count_dict = collections.defaultdict(int)\n",
    "for text in X:\n",
    "    list_token = tokenize(text)\n",
    "    for token in list_token:\n",
    "        count_dict[token] += 1\n",
    "\n",
    "#Ordonnancement du dictionnaire par valeur décroissante\n",
    "sorted_count = sorted(count_dict.items(), key=lambda kv: kv[1], reverse=True)\n",
    "sorted_count_dict = dict(collections.OrderedDict(sorted_count))"
   ]
  },
  {
   "cell_type": "code",
   "execution_count": 9,
   "metadata": {},
   "outputs": [
    {
     "name": "stdout",
     "output_type": "stream",
     "text": [
      "{'the': 574323, ',': 542893, '.': 468185, 'a': 309328, 'and': 309223, 'of': 285791, 'to': 264478, 'is': 214630, 'in': 174194, 'I': 155276, 'it': 151759, 'that': 138182, '\"': 126795, \"'s\": 121638, 'this': 120301, '-': 104879, '/><br': 100974, 'was': 99119, 'as': 85000, 'movie': 84730, 'with': 84728, 'for': 82893, 'film': 77026, 'The': 75059, 'but': 68834, 'on': 65453, \"n't\": 65193, '(': 65043, ')': 64183, 'you': 61696, 'are': 59370, 'not': 57225, 'have': 56222, 'his': 54680, 'be': 52738, 'one': 48253, 'he': 48106, '!': 43915, 'at': 43407, 'by': 43040, 'all': 41970, 'an': 41399, 'who': 40519, 'from': 38656, 'they': 38652, 'like': 38498, 'so': 35119, 'or': 33977, 'about': 33524, 'has': 33435, 'out': 33345, \"'\": 33183, 'her': 33116, 'just': 32847, 'It': 32775, 'do': 31242, '?': 29841, 'some': 28500, 'good': 28173, 'more': 27218, 'very': 26394, 'would': 26305, 'up': 25768, 'what': 25575, 'This': 25059, 'there': 24918, 'time': 23802, 'can': 23429, 'when': 23148, 'if': 22865, 'which': 22688, 'really': 22265, 'had': 22230, 'only': 22134, 'see': 22109, 'their': 22059, 'story': 21940, 'were': 21898, 'she': 21784, 'even': 21717, 'no': 21497, 'my': 20612, 'me': 20366, 'did': 20358, 'does': 19831, '...': 19745, 'than': 19253, 'much': 18562, 'been': 18245, 'could': 18222, 'get': 17921, 'into': 17735, ':': 17641, 'well': 17605, 'other': 17323, 'will': 17321, 'bad': 17151, 'we': 17103, 'people': 17096, 'him': 16997}\n"
     ]
    }
   ],
   "source": [
    "#Affichage de la liste des 100 premiers mots et de leur fréquence\n",
    "print({k: sorted_count_dict[k] for k in list(sorted_count_dict)[:100]})"
   ]
  },
  {
   "cell_type": "markdown",
   "metadata": {
    "tags": []
   },
   "source": [
    "## Nettoyage des données et modélisation"
   ]
  },
  {
   "cell_type": "markdown",
   "metadata": {},
   "source": [
    "Nous allons éliminer les balises < /br > dans le texte qui sont des erreurs d'encoding quand on charge le fichier. Nous allons aussi créer quelques stopwords pour éliminer des mots grammaticaux. <br>\n",
    "Finalement nous allons simplement faire une première modélisation du texte, sans faire aucun autre traitement afin d'obtenir une bonne première base pour prédire le sentiment. Cela nous sera très utile pour comprendre l'impact de nos ajouts par la suite.\n",
    "\n",
    "*N.B : On ne veut pas forcément supprimer des variables comme les guillemets, les parenthèses, ou autre car en analyse de sentiment ça peut être un signal intéressant.*"
   ]
  },
  {
   "cell_type": "code",
   "execution_count": 10,
   "metadata": {},
   "outputs": [],
   "source": [
    "#Première étape, on supprime les différents marqueurs de texte indésirables\n",
    "def clean(text):\n",
    "    text = re.sub(\"<br />\", \" \", text)\n",
    "    return text\n",
    "\n",
    "#On applique directement la fonction sur le dataframe de pandas\n",
    "df['review'] = df['review'].apply(clean)"
   ]
  },
  {
   "cell_type": "code",
   "execution_count": 11,
   "metadata": {},
   "outputs": [],
   "source": [
    "#On crée une liste de stopwords adaptée à notre contexte\n",
    "nltk_stopEN = stopwords.words('english')\n",
    "stopwords_perso = ['about', 'where', 'with', 'about', 'your', 'been', 'into', 'itself',  'them', 'their', 'theirs', 'themselves', 'what', 'there', \n",
    "                   'does', 'that', 'which', 'while', 'them', 'those', 'other', 'though', 'also', 'here','gestalt', 'they', ]\n",
    "stopwords = nltk_stopEN + stopwords_perso"
   ]
  },
  {
   "cell_type": "code",
   "execution_count": 12,
   "metadata": {},
   "outputs": [],
   "source": [
    "#Création de nos jeux de données train et test\n",
    "X_train, X_test, Y_train, Y_test = train_test_split(X, Y, test_size=0.3, random_state = 54321)"
   ]
  },
  {
   "cell_type": "code",
   "execution_count": 13,
   "metadata": {},
   "outputs": [
    {
     "name": "stderr",
     "output_type": "stream",
     "text": [
      "C:\\Users\\a\\anaconda3\\lib\\site-packages\\sklearn\\feature_extraction\\text.py:525: UserWarning: The parameter 'token_pattern' will not be used since 'tokenizer' is not None'\n",
      "  warnings.warn(\n",
      "C:\\Users\\a\\anaconda3\\lib\\site-packages\\sklearn\\feature_extraction\\text.py:408: UserWarning: Your stop_words may be inconsistent with your preprocessing. Tokenizing the stop words generated tokens [\"'d\", \"'ll\", \"'re\", \"'s\", \"'ve\", 'could', 'might', 'must', \"n't\", 'need', 'sha', 'wo', 'would'] not in stop_words.\n",
      "  warnings.warn(\n"
     ]
    }
   ],
   "source": [
    "#Modélisation du texte en matrice de Bag Of Words\n",
    "Count_vec = CountVectorizer(tokenizer=tokenize, min_df=2, stop_words=stopwords)\n",
    "BoW_matrix_train = Count_vec.fit_transform(X_train)\n",
    "BoW_matrix_test =  Count_vec.transform(X_test)"
   ]
  },
  {
   "cell_type": "code",
   "execution_count": 14,
   "metadata": {},
   "outputs": [],
   "source": [
    "#On entraine le modèle de prédiction - régression logistique.\n",
    "clf_log = LogisticRegression(random_state=42, solver='lbfgs', max_iter =1000)\n",
    "clf_log.fit(BoW_matrix_train, Y_train)\n",
    "y_pred_log = clf_log.predict(BoW_matrix_test)"
   ]
  },
  {
   "cell_type": "code",
   "execution_count": 15,
   "metadata": {},
   "outputs": [
    {
     "name": "stdout",
     "output_type": "stream",
     "text": [
      "Model Precision:  0.8813758828145436\n",
      "Model Recall:  0.8944783647464826\n",
      "Model F1_score:  0.8878787878787879\n"
     ]
    }
   ],
   "source": [
    "#On mesure la qualité des prédictions de notre modèle avec les vraies données de notre jeu de test\n",
    "print('Model Precision: ', precision_score(Y_test, y_pred_log))\n",
    "print('Model Recall: ', recall_score(Y_test, y_pred_log))\n",
    "print('Model F1_score: ', f1_score(Y_test, y_pred_log))\n"
   ]
  },
  {
   "cell_type": "markdown",
   "metadata": {},
   "source": [
    "## Enrichir la  représentation"
   ]
  },
  {
   "cell_type": "markdown",
   "metadata": {},
   "source": [
    "88.8% de f1 score est déjà un très bon résultat pour une première phase.\n",
    "Nous allons voir si nous pouvons améliorer les résultats de notre modèle de régression logistique en ajoutant des variables supplémentaires qui peuvent être intéressantes à considérer pour de l'analyse de sentiment.\n",
    "On a créé différentes fonctions pour : \n",
    "- Lemmatiser le texte\n",
    "- Utiliser les POS tagging pour compter le nombre d'adjectifs et d'adverbes dans chaque revue\n",
    "- Compter la taille (le nombre de mots utilisés) de la revue\n",
    "- Compter le nombre de mots en majuscule utilisés\n",
    "- Compter le nombre de guillemets et de parenthèse utilisées\n",
    "- Utiliser un dictionnaire de sentiment externe comme \"SentiWordNet\"\n",
    "\n",
    "Nous allons ajouter ces variables à notre matrice de Bag of Words afin de créer un nouveau modèle les prenant en compte."
   ]
  },
  {
   "cell_type": "code",
   "execution_count": 16,
   "metadata": {},
   "outputs": [],
   "source": [
    "#Fonction de lemmatisation avec Spacy\n",
    "def lemmatize(text):\n",
    "    temp = []\n",
    "    doc = nlp(text)\n",
    "    for token in doc:\n",
    "        temp.append(token.lemma_)\n",
    "    return \" \".join(temp)"
   ]
  },
  {
   "cell_type": "code",
   "execution_count": 17,
   "metadata": {},
   "outputs": [],
   "source": [
    "#Fonction permettant d'obtenir le nombre d'adjectifs et d'adverbes dans les phrases\n",
    "def count_adj(text):\n",
    "    nb_adj = 0\n",
    "    doc = nlp(text)\n",
    "    for token in doc:\n",
    "        if token.pos_ == 'ADJ':\n",
    "            nb_adj += 1\n",
    "    return nb_adj\n",
    "\n",
    "def count_adv(text):\n",
    "    nb_adv = 0\n",
    "    doc = nlp(text)\n",
    "    for token in doc:\n",
    "        if token.pos_ == 'ADV':\n",
    "            nb_adv += 1\n",
    "    return nb_adv"
   ]
  },
  {
   "cell_type": "code",
   "execution_count": 18,
   "metadata": {},
   "outputs": [],
   "source": [
    "#Fonction permettant d'obtenir la taille des phrases\n",
    "def len_sent(text):\n",
    "    sent_tok = tokenize(text)\n",
    "    return len(sent_tok)"
   ]
  },
  {
   "cell_type": "code",
   "execution_count": 19,
   "metadata": {},
   "outputs": [],
   "source": [
    "#Fonction pour obtenir le nombre de mots commençant par uns majuscule ou étant tout en majuscule\n",
    "def nb_upper(text):\n",
    "    \n",
    "    sent_tok_upper = [w.text for w in nlp(text) if str(w).isupper() or str(w).istitle()]\n",
    "    return len(sent_tok_upper)"
   ]
  },
  {
   "cell_type": "code",
   "execution_count": 20,
   "metadata": {},
   "outputs": [],
   "source": [
    "#Fonctions comptant le nombre de guillemets et de parenthèses\n",
    "def nb_guill(text):\n",
    "    return len(re.findall(r'\"',text))\n",
    "    \n",
    "def nb_parentheses(text):\n",
    "    return len(re.findall(r\"\\(\",text))"
   ]
  },
  {
   "cell_type": "code",
   "execution_count": 21,
   "metadata": {},
   "outputs": [],
   "source": [
    "#Fonction utilisant un dictionnaire externe de données - ici SentiWordNet présent avec nltk\n",
    "def penn_to_wn(tag):\n",
    "\n",
    "    #On crée cette fonction préliminaire pour faire de l'unformisation des types de mots entre le lematiser et le pos tagger de nltk \n",
    "    if tag.startswith('J'):\n",
    "        return wn.ADJ\n",
    "    elif tag.startswith('N'):\n",
    "        return wn.NOUN\n",
    "    elif tag.startswith('R'):\n",
    "        return wn.ADV\n",
    "    elif tag.startswith('V'):\n",
    "        return wn.VERB\n",
    "    return None\n",
    "\n",
    "def swn_polarity(text, ponderate = False):\n",
    "\n",
    "    sentiment = np.zeros(2)\n",
    "    pos_sentiment = 0\n",
    "    neg_sentiment = 0\n",
    "    norm = 0\n",
    "    raw_sentences = sent_tokenize(text)\n",
    "    #Pour chaque phrase de notre jeu de données\n",
    "    for i, raw_sentence in enumerate(raw_sentences):\n",
    "        #On utilise le pos tagger de nltk cette fois\n",
    "        tagged_sentence = pos_tag([word for word in tokenize(raw_sentence) if word not in stopwords])\n",
    "        \n",
    "        #On initie notre score de sentiment\n",
    "        pos_sentence_sentiment = 0\n",
    "        neg_sentence_sentiment = 0\n",
    "        \n",
    "        #Pour chaque mot\n",
    "        for word, tag in tagged_sentence:\n",
    "            #On récupère l'équivalent de POS nécessaire pour le lemmatiser\n",
    "            wn_tag = penn_to_wn(tag)\n",
    "            if wn_tag not in (wn.NOUN, wn.ADJ, wn.ADV, wn.VERB):\n",
    "                continue\n",
    "             #On récupère le lemme du mot\n",
    "            lemma = lemmatizer.lemmatize(word, pos=wn_tag)\n",
    "            if not lemma:\n",
    "                continue\n",
    "             #On récupère le sentiment associé au lemme dans SentiWordNet\n",
    "            synsets = wn.synsets(lemma, pos=wn_tag)\n",
    "            if not synsets:\n",
    "                continue\n",
    "            \n",
    "            norm += 1\n",
    "            \n",
    "            #On prend le premier sens du mot en compte, c'est celui qui est le plus communément employé\n",
    "            synset = synsets[0]\n",
    "            swn_synset = swn.senti_synset(synset.name())\n",
    "            pos_sentence_sentiment += swn_synset.pos_score()\n",
    "            neg_sentence_sentiment += swn_synset.neg_score()\n",
    "        \n",
    "        #Si on veut prendre en compte la position des phrases dans le calcul des sentiments\n",
    "        if ponderate:\n",
    "            ponderation = abs(i-(len(raw_sentences)-1)/2)/((len(raw_sentences))/2)\n",
    "            pos_sentiment += ponderation * pos_sentence_sentiment\n",
    "            neg_sentiment += ponderation * neg_sentence_sentiment\n",
    "        else:\n",
    "            pos_sentiment += pos_sentence_sentiment\n",
    "            neg_sentiment += neg_sentence_sentiment\n",
    "    \n",
    "    #on oublie pas de normaliser par la taille du texte (ici on préfère normaliser par le nombre de mots pris en compte)\n",
    "    sentiment[0] = pos_sentiment / norm\n",
    "    sentiment[1] = neg_sentiment / norm\n",
    "    \n",
    "    return sentiment"
   ]
  },
  {
   "cell_type": "code",
   "execution_count": 22,
   "metadata": {},
   "outputs": [],
   "source": [
    "#On applique les différentes fonctions sur le texte du dataframe pour obtenir des colonnes contenant nos résultats\n",
    "#ATTENTION : Ici comme on a beaucoup de données, certaines opérations peuvent être très longues.\n",
    "\n",
    "\n",
    "df['taille_phrase'] = df['review'].apply(len_sent)\n",
    "df['nb_adverbs'] = df['review'].apply(count_adv)\n",
    "\n",
    "#df['polarity_absolute'] = df['review'].apply(swn_polarity)\n",
    "df['review_lemm'] = df['review'].apply(lemmatize)\n",
    "df['nb_adjectives'] = df['review'].apply(count_adj)\n",
    "df['nb_uppercase'] = df['review'].apply(nb_upper)\n",
    "df['nb_guillemets'] = df['review'].apply(nb_guill)\n",
    "df['nb_parentheses'] = df['review'].apply(nb_parentheses)\n",
    "#df['polarity_ponder'] = df['review'].apply(swn_polarity, args=(True,))"
   ]
  },
  {
   "cell_type": "code",
   "execution_count": 23,
   "metadata": {},
   "outputs": [
    {
     "data": {
      "text/html": [
       "<div>\n",
       "<style scoped>\n",
       "    .dataframe tbody tr th:only-of-type {\n",
       "        vertical-align: middle;\n",
       "    }\n",
       "\n",
       "    .dataframe tbody tr th {\n",
       "        vertical-align: top;\n",
       "    }\n",
       "\n",
       "    .dataframe thead th {\n",
       "        text-align: right;\n",
       "    }\n",
       "</style>\n",
       "<table border=\"1\" class=\"dataframe\">\n",
       "  <thead>\n",
       "    <tr style=\"text-align: right;\">\n",
       "      <th></th>\n",
       "      <th>review</th>\n",
       "      <th>sentiment</th>\n",
       "      <th>label</th>\n",
       "      <th>taille_phrase</th>\n",
       "      <th>nb_adverbs</th>\n",
       "      <th>review_lemm</th>\n",
       "      <th>nb_adjectives</th>\n",
       "      <th>nb_uppercase</th>\n",
       "      <th>nb_guillemets</th>\n",
       "      <th>nb_parentheses</th>\n",
       "    </tr>\n",
       "  </thead>\n",
       "  <tbody>\n",
       "    <tr>\n",
       "      <th>0</th>\n",
       "      <td>One of the other reviewers has mentioned that ...</td>\n",
       "      <td>positive</td>\n",
       "      <td>1</td>\n",
       "      <td>362</td>\n",
       "      <td>13</td>\n",
       "      <td>one of the other reviewer have mention that af...</td>\n",
       "      <td>32</td>\n",
       "      <td>40</td>\n",
       "      <td>0</td>\n",
       "      <td>1</td>\n",
       "    </tr>\n",
       "    <tr>\n",
       "      <th>1</th>\n",
       "      <td>A wonderful little production.   The filming t...</td>\n",
       "      <td>positive</td>\n",
       "      <td>1</td>\n",
       "      <td>185</td>\n",
       "      <td>19</td>\n",
       "      <td>a wonderful little production .    the film te...</td>\n",
       "      <td>14</td>\n",
       "      <td>14</td>\n",
       "      <td>2</td>\n",
       "      <td>1</td>\n",
       "    </tr>\n",
       "    <tr>\n",
       "      <th>2</th>\n",
       "      <td>I thought this was a wonderful way to spend ti...</td>\n",
       "      <td>positive</td>\n",
       "      <td>1</td>\n",
       "      <td>195</td>\n",
       "      <td>7</td>\n",
       "      <td>I think this be a wonderful way to spend time ...</td>\n",
       "      <td>18</td>\n",
       "      <td>23</td>\n",
       "      <td>6</td>\n",
       "      <td>2</td>\n",
       "    </tr>\n",
       "    <tr>\n",
       "      <th>3</th>\n",
       "      <td>Basically there's a family where a little boy ...</td>\n",
       "      <td>negative</td>\n",
       "      <td>0</td>\n",
       "      <td>157</td>\n",
       "      <td>9</td>\n",
       "      <td>basically there be a family where a little boy...</td>\n",
       "      <td>6</td>\n",
       "      <td>15</td>\n",
       "      <td>0</td>\n",
       "      <td>1</td>\n",
       "    </tr>\n",
       "    <tr>\n",
       "      <th>4</th>\n",
       "      <td>Petter Mattei's \"Love in the Time of Money\" is...</td>\n",
       "      <td>positive</td>\n",
       "      <td>1</td>\n",
       "      <td>258</td>\n",
       "      <td>4</td>\n",
       "      <td>Petter Mattei 's \" love in the Time of money \"...</td>\n",
       "      <td>25</td>\n",
       "      <td>34</td>\n",
       "      <td>2</td>\n",
       "      <td>0</td>\n",
       "    </tr>\n",
       "  </tbody>\n",
       "</table>\n",
       "</div>"
      ],
      "text/plain": [
       "                                              review sentiment  label  \\\n",
       "0  One of the other reviewers has mentioned that ...  positive      1   \n",
       "1  A wonderful little production.   The filming t...  positive      1   \n",
       "2  I thought this was a wonderful way to spend ti...  positive      1   \n",
       "3  Basically there's a family where a little boy ...  negative      0   \n",
       "4  Petter Mattei's \"Love in the Time of Money\" is...  positive      1   \n",
       "\n",
       "   taille_phrase  nb_adverbs  \\\n",
       "0            362          13   \n",
       "1            185          19   \n",
       "2            195           7   \n",
       "3            157           9   \n",
       "4            258           4   \n",
       "\n",
       "                                         review_lemm  nb_adjectives  \\\n",
       "0  one of the other reviewer have mention that af...             32   \n",
       "1  a wonderful little production .    the film te...             14   \n",
       "2  I think this be a wonderful way to spend time ...             18   \n",
       "3  basically there be a family where a little boy...              6   \n",
       "4  Petter Mattei 's \" love in the Time of money \"...             25   \n",
       "\n",
       "   nb_uppercase  nb_guillemets  nb_parentheses  \n",
       "0            40              0               1  \n",
       "1            14              2               1  \n",
       "2            23              6               2  \n",
       "3            15              0               1  \n",
       "4            34              2               0  "
      ]
     },
     "execution_count": 23,
     "metadata": {},
     "output_type": "execute_result"
    }
   ],
   "source": [
    "#Aperçu du nouveau dataframe avec les variables nouvellement créées\n",
    "df.head()"
   ]
  },
  {
   "cell_type": "code",
   "execution_count": 24,
   "metadata": {},
   "outputs": [],
   "source": [
    "#On applique notre fonction pour séparer nos données en jeu d'entrainement et de test/validation\n",
    "df_train, df_test, = train_test_split(df, test_size=0.3, random_state = 54321)"
   ]
  },
  {
   "cell_type": "code",
   "execution_count": 25,
   "metadata": {},
   "outputs": [],
   "source": [
    "#On crée nos listes de textes et de labels\n",
    "X_train = list(df_train['review'])\n",
    "Y_train = list(df_train['label'])\n",
    "X_test = list(df_test['review'])\n",
    "Y_test = list(df_test['label'])\n",
    "\n",
    "#On crée aussi nos listes de variables supplémentaires\n",
    "adv_train = np.array(df_train['nb_adverbs'].values)\n",
    "adv_test = np.array(df_test['nb_adverbs'].values)\n",
    "taille_phrase_train = np.array(df_train['taille_phrase'].values)\n",
    "taille_phrase_test = np.array(df_test['taille_phrase'].values)\n",
    "\n",
    "#Si on veut le faire avec l'analyse via SentiWordNet créée précédemment, on doit  changer la fonction pour np.stack car la variable de sentiment est déjà représentée sous forme de vecteur\n",
    "#sentinet_train = np.stack(df_train['polarity_absolute'].values, axis=0)\n",
    "#sentinet_test = np.stack(df_test['polarity_absolute'].values, axis=0)"
   ]
  },
  {
   "cell_type": "code",
   "execution_count": 26,
   "metadata": {},
   "outputs": [
    {
     "data": {
      "text/plain": [
       "array([25, 11, 18, ..., 13, 16,  2], dtype=int64)"
      ]
     },
     "execution_count": 26,
     "metadata": {},
     "output_type": "execute_result"
    }
   ],
   "source": [
    "adv_train"
   ]
  },
  {
   "cell_type": "code",
   "execution_count": 27,
   "metadata": {},
   "outputs": [
    {
     "name": "stderr",
     "output_type": "stream",
     "text": [
      "C:\\Users\\a\\anaconda3\\lib\\site-packages\\sklearn\\feature_extraction\\text.py:525: UserWarning: The parameter 'token_pattern' will not be used since 'tokenizer' is not None'\n",
      "  warnings.warn(\n",
      "C:\\Users\\a\\anaconda3\\lib\\site-packages\\sklearn\\feature_extraction\\text.py:408: UserWarning: Your stop_words may be inconsistent with your preprocessing. Tokenizing the stop words generated tokens [\"'d\", \"'ll\", \"'re\", \"'s\", \"'ve\", 'could', 'might', 'must', \"n't\", 'need', 'sha', 'wo', 'would'] not in stop_words.\n",
      "  warnings.warn(\n"
     ]
    }
   ],
   "source": [
    "#On crée à nouveau notre modélisation par Bag of Words\n",
    "Count_vec = CountVectorizer(tokenizer=tokenize, min_df=2, stop_words=stopwords)\n",
    "BoW_matrix_train = Count_vec.fit_transform(X_train)\n",
    "BoW_matrix_test =  Count_vec.transform(X_test)\n",
    "\n",
    "#On concatène les informations provenant des variables grammaticales et de taille de la phrase\n",
    "add_ons_train = np.c_[adv_train, taille_phrase_train]\n",
    "add_ons_test = np.c_[adv_test, taille_phrase_test]\n",
    "train_matrix_full = hstack((BoW_matrix_train, add_ons_train))\n",
    "test_matrix_full = hstack((BoW_matrix_test, add_ons_test))"
   ]
  },
  {
   "cell_type": "code",
   "execution_count": 28,
   "metadata": {},
   "outputs": [
    {
     "name": "stdout",
     "output_type": "stream",
     "text": [
      "Taille originale de la matrice de Bag of Words :  (35000, 53393)\n",
      "Taille originale de la matrice de Bag of Words AVEC l'ajout des variables :  (35000, 53395)\n"
     ]
    }
   ],
   "source": [
    "print('Taille originale de la matrice de Bag of Words : ', BoW_matrix_train.shape)\n",
    "print(\"Taille originale de la matrice de Bag of Words AVEC l'ajout des variables : \", train_matrix_full.shape)"
   ]
  },
  {
   "cell_type": "code",
   "execution_count": 29,
   "metadata": {},
   "outputs": [],
   "source": [
    "#On applique notre modèle de régression logistique sur notre nouvelle matrice\n",
    "clf_log = LogisticRegression(random_state=42, solver='lbfgs', max_iter =5000)\n",
    "clf_log.fit(train_matrix_full, Y_train)\n",
    "y_pred_log = clf_log.predict(test_matrix_full)"
   ]
  },
  {
   "cell_type": "code",
   "execution_count": 30,
   "metadata": {},
   "outputs": [
    {
     "name": "stdout",
     "output_type": "stream",
     "text": [
      "Model Precision:  0.8827370070514494\n",
      "Model Recall:  0.8972657286965755\n",
      "Model F1_score:  0.889942074776198\n"
     ]
    }
   ],
   "source": [
    "#On affiche les nouvelles performances de notre modèle enrichit\n",
    "print('Model Precision: ', precision_score(Y_test, y_pred_log))\n",
    "print('Model Recall: ', recall_score(Y_test, y_pred_log))\n",
    "print('Model F1_score: ', f1_score(Y_test, y_pred_log))"
   ]
  },
  {
   "cell_type": "markdown",
   "metadata": {},
   "source": [
    "Ici on voit que nos ajouts ont légèrement amélioré les performances de notre modèle. <br>\n",
    "Cependant peut être que d'autres combinaisons seront plus ou moins utiles. Il faudrait alors tester l'ensemble des variables de manière itérative afin d'identifier la meilleure combinaison possible. <br>\n"
   ]
  },
  {
   "cell_type": "code",
   "execution_count": null,
   "metadata": {},
   "outputs": [],
   "source": []
  }
 ],
 "metadata": {
  "kernelspec": {
   "display_name": "Python 3 (ipykernel)",
   "language": "python",
   "name": "python3"
  },
  "language_info": {
   "codemirror_mode": {
    "name": "ipython",
    "version": 3
   },
   "file_extension": ".py",
   "mimetype": "text/x-python",
   "name": "python",
   "nbconvert_exporter": "python",
   "pygments_lexer": "ipython3",
   "version": "3.8.8"
  }
 },
 "nbformat": 4,
 "nbformat_minor": 4
}
